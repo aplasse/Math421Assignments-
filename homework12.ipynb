{
 "cells": [
  {
   "cell_type": "code",
   "execution_count": 1,
   "metadata": {},
   "outputs": [
    {
     "name": "stderr",
     "output_type": "stream",
     "text": [
      "Loading required package: lattice\n",
      "Loading required package: ggplot2\n"
     ]
    }
   ],
   "source": [
    "titanic = read.csv(\"C:/Users/student/Documents/titanic.csv\")\n",
    "\n",
    "titanic$PassengerId =  NULL\n",
    "titanic$Ticket =  NULL\n",
    "titanic$Name = NULL\n",
    "titanic$Cabin = NULL\n",
    "titanic$Survived = factor(titanic$Survived)\n",
    "titanic$Pclass = factor(titanic$Pclass)\n",
    "levels(titanic$Embarked) = c(\"S\",\"C\",\"Q\",\"S\")\n",
    "\n",
    "adult <- read.csv(\"C:/Users/student/Desktop/adult.csv\", header = FALSE)\n",
    "\n",
    "names(adult) <- c(\"age\", \"workclass\", \"fnlwgt\", \"education\", \"education_num\", \"marital_status\", \"occupation\", \"relationship\", \"race\", \"sex\", \"capital_gain\", \"capital_loss\",\"hours_per_week\", \"native_country\",\"income\")\n",
    "\n",
    "levels(adult$`native_country`) = c(\" ?\", \" Asia\", \" North America\", \" Asia\", \" South America\", \" North America\", \" North America\", \" South America\", \" North America\", \" Europe\", \" Europe\", \" Europe\", \" Europe\", \" North America\", \" North America\", \" Europe\", \" North America\", \" Asia\", \" Europe\", \" Asia\", \" Asia\", \" Europe\", \" Europe\", \" Africa\", \" Asia\", \" Asia\", \" North America\", \" North America\", \" North America\", \" South America\", \" Asia\", \" Europe\", \" Europe\", \" North America\", \" Europe\", \" South America\", \" Asia\", \" Asia\", \" North America\", \" North America\", \" Asia\", \" Europe\")\n",
    "\n",
    "levels(adult$education) = c(\"HS drop out\", \"HS drop out\", \"HS drop out\", \"no HS\", \"no HS\", \"no HS\", \"HS drop out\", \"2 years of college\", \"2 years of college\", \"Bachelors or higher\", \"Bachelors or higher\", \"HS-grad\", \"Bachelors or higher\", \"no HS\", \"no HS\", \"HS-grad\")\n",
    "\n",
    "levels(adult$occupation) = c(\" ?\", \" Management\", \" Military\", \" Other\", \" Management\", \" Other\", \" Other\", \" Other\", \" Other\", \" Other\", \" Specialty\", \" Other\", \" Other\", \" Tech\", \" Other\")\n",
    "\n",
    "\n",
    "library(caret)"
   ]
  },
  {
   "cell_type": "code",
   "execution_count": 2,
   "metadata": {},
   "outputs": [
    {
     "name": "stderr",
     "output_type": "stream",
     "text": [
      "Warning message in model.frame.default(Terms, newdata, na.action = na.action, xlev = object$lvls):\n",
      "\"variable 'income' is not a factor\"Warning message in model.frame.default(Terms, newdata, na.action = na.action, xlev = object$lvls):\n",
      "\"variable 'Survived' is not a factor\""
     ]
    }
   ],
   "source": [
    "for (i in 1:ncol(adult))\n",
    "{ for (j in 1:nrow(adult))\n",
    "{ if(adult[j,i] == \" ?\")\n",
    "{\n",
    "  adult[j,i] = NA\n",
    "}\n",
    "}\n",
    "}\n",
    "\n",
    "for (i in 1:ncol(adult))\n",
    "{ if(class(adult[,i]) == \"factor\")\n",
    "{\n",
    "  adult[,i][is.na(adult[,i])] = unique(adult[,i])[which.max(tabulate(match(adult,unique(adult[,i]))))]\n",
    "}\n",
    "}\n",
    "\n",
    "\n",
    "##adult\n",
    "preProcess_missingdata_model <- preProcess(adult, method = c('knnImpute','center','scale'))\n",
    "trainData1 <- predict(preProcess_missingdata_model, newdata = adult)\n",
    "\n",
    "dummies_model <- dummyVars(income ~ ., data=trainData1)\n",
    "\n",
    "trainData_mat <- predict(dummies_model, newdata = trainData1)\n",
    "\n",
    "\n",
    "trainData1 <- data.frame(trainData_mat)\n",
    "trainData1$income <- adult$income\n",
    "\n",
    "##titanic\n",
    "preProcess_missingdata_model2 <- preProcess(titanic, method = c('knnImpute', \"center\",\"scale\"))\n",
    "trainData2 <- predict(preProcess_missingdata_model2, newdata = titanic)\n",
    "\n",
    "dummies_model <- dummyVars(Survived ~ ., data=trainData2)\n",
    "\n",
    "trainData_mat <- predict(dummies_model, newdata = trainData2)\n",
    "\n",
    "trainData2 <- data.frame(trainData_mat)\n",
    "trainData2$Survived <- titanic$Survived"
   ]
  },
  {
   "cell_type": "code",
   "execution_count": 3,
   "metadata": {},
   "outputs": [
    {
     "name": "stdout",
     "output_type": "stream",
     "text": [
      "+ Fold1: mtry=2, splitrule=gini, min.node.size=30 \n",
      "- Fold1: mtry=2, splitrule=gini, min.node.size=30 \n",
      "+ Fold1: mtry=3, splitrule=gini, min.node.size=30 \n",
      "- Fold1: mtry=3, splitrule=gini, min.node.size=30 \n",
      "+ Fold2: mtry=2, splitrule=gini, min.node.size=30 \n",
      "- Fold2: mtry=2, splitrule=gini, min.node.size=30 \n",
      "+ Fold2: mtry=3, splitrule=gini, min.node.size=30 \n",
      "- Fold2: mtry=3, splitrule=gini, min.node.size=30 \n",
      "+ Fold3: mtry=2, splitrule=gini, min.node.size=30 \n",
      "- Fold3: mtry=2, splitrule=gini, min.node.size=30 \n",
      "+ Fold3: mtry=3, splitrule=gini, min.node.size=30 \n",
      "- Fold3: mtry=3, splitrule=gini, min.node.size=30 \n",
      "+ Fold4: mtry=2, splitrule=gini, min.node.size=30 \n",
      "- Fold4: mtry=2, splitrule=gini, min.node.size=30 \n",
      "+ Fold4: mtry=3, splitrule=gini, min.node.size=30 \n",
      "- Fold4: mtry=3, splitrule=gini, min.node.size=30 \n",
      "+ Fold5: mtry=2, splitrule=gini, min.node.size=30 \n",
      "- Fold5: mtry=2, splitrule=gini, min.node.size=30 \n",
      "+ Fold5: mtry=3, splitrule=gini, min.node.size=30 \n",
      "- Fold5: mtry=3, splitrule=gini, min.node.size=30 \n",
      "+ Fold6: mtry=2, splitrule=gini, min.node.size=30 \n",
      "- Fold6: mtry=2, splitrule=gini, min.node.size=30 \n",
      "+ Fold6: mtry=3, splitrule=gini, min.node.size=30 \n",
      "- Fold6: mtry=3, splitrule=gini, min.node.size=30 \n",
      "+ Fold7: mtry=2, splitrule=gini, min.node.size=30 \n",
      "- Fold7: mtry=2, splitrule=gini, min.node.size=30 \n",
      "+ Fold7: mtry=3, splitrule=gini, min.node.size=30 \n",
      "- Fold7: mtry=3, splitrule=gini, min.node.size=30 \n",
      "Aggregating results\n",
      "Selecting tuning parameters\n",
      "Fitting mtry = 3, splitrule = gini, min.node.size = 30 on full training set\n"
     ]
    },
    {
     "data": {
      "text/plain": [
       "Random Forest \n",
       "\n",
       "32561 samples\n",
       "   52 predictor\n",
       "    2 classes: ' <=50K', ' >50K' \n",
       "\n",
       "No pre-processing\n",
       "Resampling: Cross-Validated (7 fold) \n",
       "Summary of sample sizes: 27909, 27908, 27910, 27910, 27910, 27910, ... \n",
       "Resampling results across tuning parameters:\n",
       "\n",
       "  mtry  Accuracy   Kappa    \n",
       "  2     0.8258346  0.4180618\n",
       "  3     0.8461349  0.5251324\n",
       "\n",
       "Tuning parameter 'splitrule' was held constant at a value of gini\n",
       "\n",
       "Tuning parameter 'min.node.size' was held constant at a value of 30\n",
       "Accuracy was used to select the optimal model using the largest value.\n",
       "The final values used for the model were mtry = 3, splitrule = gini\n",
       " and min.node.size = 30."
      ]
     },
     "metadata": {},
     "output_type": "display_data"
    },
    {
     "name": "stdout",
     "output_type": "stream",
     "text": [
      "+ Fold1: mtry=2, splitrule=gini, min.node.size=30 \n",
      "- Fold1: mtry=2, splitrule=gini, min.node.size=30 \n",
      "+ Fold1: mtry=3, splitrule=gini, min.node.size=30 \n",
      "- Fold1: mtry=3, splitrule=gini, min.node.size=30 \n",
      "+ Fold2: mtry=2, splitrule=gini, min.node.size=30 \n",
      "- Fold2: mtry=2, splitrule=gini, min.node.size=30 \n",
      "+ Fold2: mtry=3, splitrule=gini, min.node.size=30 \n",
      "- Fold2: mtry=3, splitrule=gini, min.node.size=30 \n",
      "+ Fold3: mtry=2, splitrule=gini, min.node.size=30 \n",
      "- Fold3: mtry=2, splitrule=gini, min.node.size=30 \n",
      "+ Fold3: mtry=3, splitrule=gini, min.node.size=30 \n",
      "- Fold3: mtry=3, splitrule=gini, min.node.size=30 \n",
      "+ Fold4: mtry=2, splitrule=gini, min.node.size=30 \n",
      "- Fold4: mtry=2, splitrule=gini, min.node.size=30 \n",
      "+ Fold4: mtry=3, splitrule=gini, min.node.size=30 \n",
      "- Fold4: mtry=3, splitrule=gini, min.node.size=30 \n",
      "+ Fold5: mtry=2, splitrule=gini, min.node.size=30 \n",
      "- Fold5: mtry=2, splitrule=gini, min.node.size=30 \n",
      "+ Fold5: mtry=3, splitrule=gini, min.node.size=30 \n",
      "- Fold5: mtry=3, splitrule=gini, min.node.size=30 \n",
      "+ Fold6: mtry=2, splitrule=gini, min.node.size=30 \n",
      "- Fold6: mtry=2, splitrule=gini, min.node.size=30 \n",
      "+ Fold6: mtry=3, splitrule=gini, min.node.size=30 \n",
      "- Fold6: mtry=3, splitrule=gini, min.node.size=30 \n",
      "+ Fold7: mtry=2, splitrule=gini, min.node.size=30 \n",
      "- Fold7: mtry=2, splitrule=gini, min.node.size=30 \n",
      "+ Fold7: mtry=3, splitrule=gini, min.node.size=30 \n",
      "- Fold7: mtry=3, splitrule=gini, min.node.size=30 \n",
      "Aggregating results\n",
      "Selecting tuning parameters\n",
      "Fitting mtry = 3, splitrule = gini, min.node.size = 30 on full training set\n"
     ]
    },
    {
     "data": {
      "text/plain": [
       "Random Forest \n",
       "\n",
       "891 samples\n",
       " 12 predictor\n",
       "  2 classes: '0', '1' \n",
       "\n",
       "No pre-processing\n",
       "Resampling: Cross-Validated (7 fold) \n",
       "Summary of sample sizes: 763, 764, 764, 764, 764, 763, ... \n",
       "Resampling results across tuning parameters:\n",
       "\n",
       "  mtry  Accuracy   Kappa    \n",
       "  2     0.8103294  0.5770541\n",
       "  3     0.8170434  0.5928064\n",
       "\n",
       "Tuning parameter 'splitrule' was held constant at a value of gini\n",
       "\n",
       "Tuning parameter 'min.node.size' was held constant at a value of 30\n",
       "Accuracy was used to select the optimal model using the largest value.\n",
       "The final values used for the model were mtry = 3, splitrule = gini\n",
       " and min.node.size = 30."
      ]
     },
     "metadata": {},
     "output_type": "display_data"
    }
   ],
   "source": [
    "myGrid1 = expand.grid(mtry = c(2,3), splitrule = c(\"gini\"),\n",
    "                     min.node.size = 30)\n",
    "\n",
    "model1 <- train(income~.,data = trainData1, method = \"ranger\", \n",
    "               trControl = trainControl(method =\"cv\", number = 7, verboseIter = TRUE), tuneGrid = myGrid1)\n",
    "\n",
    "model1\n",
    "\n",
    "\n",
    "model2 <- train(Survived~.,data = trainData2, method = \"ranger\", \n",
    "               trControl = trainControl(method =\"cv\", number = 7, verboseIter = TRUE), tuneGrid = myGrid1)\n",
    "\n",
    "model2\n"
   ]
  },
  {
   "cell_type": "code",
   "execution_count": 4,
   "metadata": {},
   "outputs": [
    {
     "name": "stdout",
     "output_type": "stream",
     "text": [
      "+ Fold01: cp=10 \n",
      "- Fold01: cp=10 \n",
      "+ Fold02: cp=10 \n",
      "- Fold02: cp=10 \n",
      "+ Fold03: cp=10 \n",
      "- Fold03: cp=10 \n",
      "+ Fold04: cp=10 \n",
      "- Fold04: cp=10 \n",
      "+ Fold05: cp=10 \n",
      "- Fold05: cp=10 \n",
      "+ Fold06: cp=10 \n",
      "- Fold06: cp=10 \n",
      "+ Fold07: cp=10 \n",
      "- Fold07: cp=10 \n",
      "+ Fold08: cp=10 \n",
      "- Fold08: cp=10 \n",
      "+ Fold09: cp=10 \n",
      "- Fold09: cp=10 \n",
      "+ Fold10: cp=10 \n",
      "- Fold10: cp=10 \n",
      "Aggregating results\n",
      "Selecting tuning parameters\n",
      "Fitting cp = 20 on full training set\n"
     ]
    },
    {
     "data": {
      "text/plain": [
       "CART \n",
       "\n",
       "32561 samples\n",
       "   52 predictor\n",
       "    2 classes: ' <=50K', ' >50K' \n",
       "\n",
       "No pre-processing\n",
       "Resampling: Cross-Validated (10 fold) \n",
       "Summary of sample sizes: 29304, 29305, 29305, 29305, 29305, 29305, ... \n",
       "Resampling results across tuning parameters:\n",
       "\n",
       "  cp  Accuracy   Kappa\n",
       "  10  0.7591904  0    \n",
       "  11  0.7591904  0    \n",
       "  12  0.7591904  0    \n",
       "  13  0.7591904  0    \n",
       "  14  0.7591904  0    \n",
       "  15  0.7591904  0    \n",
       "  16  0.7591904  0    \n",
       "  17  0.7591904  0    \n",
       "  18  0.7591904  0    \n",
       "  19  0.7591904  0    \n",
       "  20  0.7591904  0    \n",
       "\n",
       "Accuracy was used to select the optimal model using the largest value.\n",
       "The final value used for the model was cp = 20."
      ]
     },
     "metadata": {},
     "output_type": "display_data"
    },
    {
     "name": "stdout",
     "output_type": "stream",
     "text": [
      "+ Fold01: cp=10 \n",
      "- Fold01: cp=10 \n",
      "+ Fold02: cp=10 \n",
      "- Fold02: cp=10 \n",
      "+ Fold03: cp=10 \n",
      "- Fold03: cp=10 \n",
      "+ Fold04: cp=10 \n",
      "- Fold04: cp=10 \n",
      "+ Fold05: cp=10 \n",
      "- Fold05: cp=10 \n",
      "+ Fold06: cp=10 \n",
      "- Fold06: cp=10 \n",
      "+ Fold07: cp=10 \n",
      "- Fold07: cp=10 \n",
      "+ Fold08: cp=10 \n",
      "- Fold08: cp=10 \n",
      "+ Fold09: cp=10 \n",
      "- Fold09: cp=10 \n",
      "+ Fold10: cp=10 \n",
      "- Fold10: cp=10 \n",
      "Aggregating results\n",
      "Selecting tuning parameters\n",
      "Fitting cp = 20 on full training set\n"
     ]
    },
    {
     "data": {
      "text/plain": [
       "CART \n",
       "\n",
       "891 samples\n",
       " 12 predictor\n",
       "  2 classes: '0', '1' \n",
       "\n",
       "No pre-processing\n",
       "Resampling: Cross-Validated (10 fold) \n",
       "Summary of sample sizes: 802, 802, 802, 802, 803, 801, ... \n",
       "Resampling results across tuning parameters:\n",
       "\n",
       "  cp  Accuracy   Kappa\n",
       "  10  0.6161701  0    \n",
       "  11  0.6161701  0    \n",
       "  12  0.6161701  0    \n",
       "  13  0.6161701  0    \n",
       "  14  0.6161701  0    \n",
       "  15  0.6161701  0    \n",
       "  16  0.6161701  0    \n",
       "  17  0.6161701  0    \n",
       "  18  0.6161701  0    \n",
       "  19  0.6161701  0    \n",
       "  20  0.6161701  0    \n",
       "\n",
       "Accuracy was used to select the optimal model using the largest value.\n",
       "The final value used for the model was cp = 20."
      ]
     },
     "metadata": {},
     "output_type": "display_data"
    }
   ],
   "source": [
    "myGrid2 = expand.grid(cp = c(10:20))\n",
    "\n",
    "model3 <- train(income~.,data = trainData1, method = \"rpart\", \n",
    "                trControl = trainControl(method =\"cv\", number = 10, verboseIter = TRUE), tuneGrid = myGrid2)\n",
    "\n",
    "model3\n",
    "\n",
    "#Accuracy = .7591904 at all cps\n",
    "\n",
    "\n",
    "model4 <- train(Survived~.,data = trainData2, method = \"rpart\", \n",
    "               trControl = trainControl(method =\"cv\", number = 10, verboseIter = TRUE), tuneGrid = myGrid2)\n",
    "\n",
    "model4"
   ]
  },
  {
   "cell_type": "code",
   "execution_count": 5,
   "metadata": {},
   "outputs": [
    {
     "data": {
      "text/plain": [
       "Random Forest \n",
       "\n",
       "32561 samples\n",
       "   52 predictor\n",
       "    2 classes: ' <=50K', ' >50K' \n",
       "\n",
       "No pre-processing\n",
       "Resampling: Cross-Validated (7 fold) \n",
       "Summary of sample sizes: 27909, 27908, 27910, 27910, 27910, 27910, ... \n",
       "Resampling results across tuning parameters:\n",
       "\n",
       "  mtry  Accuracy   Kappa    \n",
       "  2     0.8258346  0.4180618\n",
       "  3     0.8461349  0.5251324\n",
       "\n",
       "Tuning parameter 'splitrule' was held constant at a value of gini\n",
       "\n",
       "Tuning parameter 'min.node.size' was held constant at a value of 30\n",
       "Accuracy was used to select the optimal model using the largest value.\n",
       "The final values used for the model were mtry = 3, splitrule = gini\n",
       " and min.node.size = 30."
      ]
     },
     "metadata": {},
     "output_type": "display_data"
    },
    {
     "data": {
      "text/plain": [
       "Random Forest \n",
       "\n",
       "891 samples\n",
       " 12 predictor\n",
       "  2 classes: '0', '1' \n",
       "\n",
       "No pre-processing\n",
       "Resampling: Cross-Validated (7 fold) \n",
       "Summary of sample sizes: 763, 764, 764, 764, 764, 763, ... \n",
       "Resampling results across tuning parameters:\n",
       "\n",
       "  mtry  Accuracy   Kappa    \n",
       "  2     0.8103294  0.5770541\n",
       "  3     0.8170434  0.5928064\n",
       "\n",
       "Tuning parameter 'splitrule' was held constant at a value of gini\n",
       "\n",
       "Tuning parameter 'min.node.size' was held constant at a value of 30\n",
       "Accuracy was used to select the optimal model using the largest value.\n",
       "The final values used for the model were mtry = 3, splitrule = gini\n",
       " and min.node.size = 30."
      ]
     },
     "metadata": {},
     "output_type": "display_data"
    }
   ],
   "source": [
    "model1\n",
    "\n",
    "\n",
    "model2\n"
   ]
  },
  {
   "cell_type": "code",
   "execution_count": 6,
   "metadata": {},
   "outputs": [
    {
     "data": {},
     "metadata": {},
     "output_type": "display_data"
    },
    {
     "data": {},
     "metadata": {},
     "output_type": "display_data"
    },
    {
     "data": {
      "image/png": "[encoded data removed]",
      "text/plain": [
       "plot without title"
      ]
     },
     "metadata": {},
     "output_type": "display_data",
     "source": "R display func"
    },
    {
     "data": {
      "image/png": "[encoded data removed]",
      "text/plain": [
       "plot without title"
      ]
     },
     "metadata": {},
     "output_type": "display_data",
     "source": "R display func"
    }
   ],
   "source": [
    "plot(model1)\n",
    "plot(model2)"
   ]
  },
  {
   "cell_type": "code",
   "execution_count": null,
   "metadata": {},
   "outputs": [],
   "source": [
    "myGrid3 = expand.grid(mtry = c(1:ncol(adult)-1), splitrule = c(\"gini\",\"extratrees\"),\n",
    "                     min.node.size = c(1:20))\n",
    "\n",
    "model5 <- train(income~.,data = trainData1, method = \"ranger\", \n",
    "               trControl = trainControl(method =\"cv\", number = 3, verboseIter = TRUE), tuneGrid = myGrid3)\n",
    "\n",
    "model5\n",
    "\n",
    "\n",
    "model6 <- train(Survived~.,data = trainData2, method = \"ranger\", \n",
    "               trControl = trainControl(method =\"cv\", number = 7, verboseIter = TRUE), tuneGrid = myGrid3)\n",
    "\n",
    "model6"
   ]
  },
  {
   "cell_type": "code",
   "execution_count": null,
   "metadata": {},
   "outputs": [],
   "source": [
    "\n",
    "model7 <- train(income~.,data = trainData1, method = \"glmnet\", \n",
    "                trControl = trainControl(method =\"cv\", number = 7, verboseIter = TRUE))\n",
    "\n",
    "\n",
    "model8 <- train(Survived~.,data = trainData2, method = \"glmnet\", \n",
    "               trControl = trainControl(method =\"cv\", number = 7, verboseIter = TRUE))\n",
    "\n",
    "model8\n",
    "\n",
    "\n",
    "myGrid4 = expand.grid(alpha = 0:1, lambda = seq(.0001, 1, length = 20))\n",
    "\n",
    "\n",
    "model9 <- train(income~.,data = trainData1, method = \"glmnet\", \n",
    "               trControl = trainControl(method =\"cv\", number = 7, verboseIter = TRUE), tuneGrid = myGrid4)\n",
    "\n",
    "model9\n",
    "\n",
    "\n",
    "\n",
    "model10 <- train(Survived~.,data = trainData2, method = \"glmnet\", \n",
    "               trControl = trainControl(method =\"cv\", number = 7, verboseIter = TRUE), tuneGrid = myGrid4)\n",
    "\n",
    "model10"
   ]
  },
  {
   "cell_type": "code",
   "execution_count": null,
   "metadata": {},
   "outputs": [],
   "source": []
  }
 ],
 "metadata": {
  "kernelspec": {
   "display_name": "R",
   "language": "R",
   "name": "ir"
  },
  "language_info": {
   "codemirror_mode": "r",
   "file_extension": ".r",
   "mimetype": "text/x-r-source",
   "name": "R",
   "pygments_lexer": "r",
   "version": "3.5.1"
  }
 },
 "nbformat": 4,
 "nbformat_minor": 2
}
