{
 "cells": [
  {
   "cell_type": "code",
   "execution_count": 2,
   "metadata": {},
   "outputs": [
    {
     "name": "stdout",
     "output_type": "stream",
     "text": [
      "'data.frame':\t32561 obs. of  15 variables:\n",
      " $ V1 : int  39 50 38 53 28 37 49 52 31 42 ...\n",
      " $ V2 : Factor w/ 9 levels \" ?\",\" Federal-gov\",..: 8 7 5 5 5 5 5 7 5 5 ...\n",
      " $ V3 : int  77516 83311 215646 234721 338409 284582 160187 209642 45781 159449 ...\n",
      " $ V4 : Factor w/ 16 levels \" 10th\",\" 11th\",..: 10 10 12 2 10 13 7 12 13 10 ...\n",
      " $ V5 : int  13 13 9 7 13 14 5 9 14 13 ...\n",
      " $ V6 : Factor w/ 7 levels \" Divorced\",\" Married-AF-spouse\",..: 5 3 1 3 3 3 4 3 5 3 ...\n",
      " $ V7 : Factor w/ 15 levels \" ?\",\" Adm-clerical\",..: 2 5 7 7 11 5 9 5 11 5 ...\n",
      " $ V8 : Factor w/ 6 levels \" Husband\",\" Not-in-family\",..: 2 1 2 1 6 6 2 1 2 1 ...\n",
      " $ V9 : Factor w/ 5 levels \" Amer-Indian-Eskimo\",..: 5 5 5 3 3 5 3 5 5 5 ...\n",
      " $ V10: Factor w/ 2 levels \" Female\",\" Male\": 2 2 2 2 1 1 1 2 1 2 ...\n",
      " $ V11: int  2174 0 0 0 0 0 0 0 14084 5178 ...\n",
      " $ V12: int  0 0 0 0 0 0 0 0 0 0 ...\n",
      " $ V13: int  40 13 40 40 40 40 16 45 50 40 ...\n",
      " $ V14: Factor w/ 42 levels \" ?\",\" Cambodia\",..: 40 40 40 40 6 40 24 40 40 40 ...\n",
      " $ V15: Factor w/ 2 levels \" <=50K\",\" >50K\": 1 1 1 1 1 1 1 2 2 2 ...\n"
     ]
    }
   ],
   "source": [
    "adult <- read.csv(\"C:/Users/student/Desktop/adult.csv\", header = FALSE)\n",
    "str(adult)"
   ]
  },
  {
   "cell_type": "code",
   "execution_count": 3,
   "metadata": {},
   "outputs": [],
   "source": [
    "names(adult) <- c(\"age\", \"workclass\", \"fnlwgt\", \"education\", \"education=num\", \"marital status\", \"occupation\", \"relationship\", \"race\", \"sex\", \"capital-gain\", \"capital-loss\",\"hours-per-week\", \"native-country\",\"income\")"
   ]
  },
  {
   "cell_type": "code",
   "execution_count": 6,
   "metadata": {},
   "outputs": [
    {
     "name": "stdout",
     "output_type": "stream",
     "text": [
      "$age\n",
      "[1] 40\n",
      "\n",
      "$workclass\n",
      "[1]  Private\n",
      "9 Levels:  ?  Federal-gov  Local-gov  Never-worked  Private ...  Without-pay\n",
      "\n",
      "$fnlwgt\n",
      "[1] 121772\n",
      "\n",
      "$education\n",
      "[1]  Assoc-voc\n",
      "16 Levels:  10th  11th  12th  1st-4th  5th-6th  7th-8th  9th ...  Some-college\n",
      "\n",
      "$`education=num`\n",
      "[1] 11\n",
      "\n",
      "$`marital status`\n",
      "[1]  Married-civ-spouse\n",
      "7 Levels:  Divorced  Married-AF-spouse ...  Widowed\n",
      "\n",
      "$occupation\n",
      "[1]  Craft-repair\n",
      "15 Levels:  ?  Adm-clerical  Armed-Forces  Craft-repair ...  Transport-moving\n",
      "\n",
      "$relationship\n",
      "[1]  Husband\n",
      "6 Levels:  Husband  Not-in-family  Other-relative  Own-child ...  Wife\n",
      "\n",
      "$race\n",
      "[1]  Asian-Pac-Islander\n",
      "Levels:  Amer-Indian-Eskimo  Asian-Pac-Islander  Black  Other  White\n",
      "\n",
      "$sex\n",
      "[1]  Male\n",
      "Levels:  Female  Male\n",
      "\n",
      "$`capital-gain`\n",
      "[1] 0\n",
      "\n",
      "$`capital-loss`\n",
      "[1] 0\n",
      "\n",
      "$`hours-per-week`\n",
      "[1] 40\n",
      "\n",
      "$`native-country`\n",
      "[1]  ?\n",
      "42 Levels:  ?  Cambodia  Canada  China  Columbia  Cuba ...  Yugoslavia\n",
      "\n",
      "$income\n",
      "[1]  >50K\n",
      "Levels:  <=50K  >50K\n",
      "\n",
      "[1] 4262\n"
     ]
    }
   ],
   "source": [
    "for (i in 1:ncol(adult))\n",
    "{  for (j in 1:length(adult))\n",
    "  { if(adult[j,i] == \" ?\")\n",
    "  {\n",
    "   print(c(adult[j,]))\n",
    "  }\n",
    "  }\n",
    "  }\n",
    "\n",
    "count <- 0    #### this will just give the number of missing values\n",
    " for(i in 1:ncol(adult))\n",
    " { for (j in 1:nrow(adult))\n",
    " {  if (adult[j,i] == \" ?\")\n",
    " {\n",
    "     count <- count + 1\n",
    " }\n",
    "     \n",
    " }\n",
    "\n",
    " }\n",
    "     print(count)"
   ]
  },
  {
   "cell_type": "code",
   "execution_count": 7,
   "metadata": {},
   "outputs": [],
   "source": [
    "replace.mean <- function(x)\n",
    "{  for (i in 1:ncol(x))\n",
    "{  for (j in 1:length(x))\n",
    "  { if (x[j,i] == \" ?\")\n",
    "  {\n",
    "    x[j,i] <- mean(x[,i])\n",
    "  }\n",
    "  }\n",
    "  }\n",
    "}\n",
    "\n",
    " for(i in 1:ncol(adult)) \n",
    "    { mode <- unique(adult[,i])[which.max(tabulate(match(adult,unique(adult[,i]))))]\n",
    "         {\n",
    "             for(j in 1:nrow(adult))\n",
    "             {    if(adult[j,i] == \" ?\")\n",
    "             {\n",
    "                 adult[j,i] <- mode\n",
    "             }\n",
    "             }\n",
    "         }\n",
    "         \n",
    "     }"
   ]
  },
  {
   "cell_type": "code",
   "execution_count": 8,
   "metadata": {},
   "outputs": [
    {
     "data": {
      "image/png": "[encoded data removed]",
      "text/plain": [
       "plot without title"
      ]
     },
     "metadata": {},
     "output_type": "display_data",
     "source": "R display func"
    }
   ],
   "source": [
    "library(ggplot2)\n",
    "\n",
    "\n",
    "###native country filled by income\n",
    "print(ggplot(adult) + geom_bar(mapping = aes(x = adult$`native-country`, fill = adult$income)) + theme(text = element_text(size=9), axis.text.x = element_text(angle=90, hjust=1)))"
   ]
  },
  {
   "cell_type": "code",
   "execution_count": 9,
   "metadata": {},
   "outputs": [
    {
     "data": {
      "image/png": "[encoded data removed]",
      "text/plain": [
       "plot without title"
      ]
     },
     "metadata": {},
     "output_type": "display_data",
     "source": "R display func"
    }
   ],
   "source": [
    "adult.no.us <- subset(adult, adult$`native-country`!= \" United-States\")\n",
    "\n",
    "print(ggplot(adult.no.us) + geom_bar(mapping = aes(x = adult.no.us$`native-country`, fill = adult.no.us$income)) + theme(text = element_text(size=9), axis.text.x = element_text(angle=90, hjust=1)))"
   ]
  },
  {
   "cell_type": "code",
   "execution_count": 10,
   "metadata": {},
   "outputs": [
    {
     "data": {
      "image/png": "[encoded data removed]",
      "text/plain": [
       "plot without title"
      ]
     },
     "metadata": {},
     "output_type": "display_data",
     "source": "R display func"
    }
   ],
   "source": [
    "print(ggplot(adult) + geom_bar(mapping = aes(x = adult$`marital status`, fill = adult$income)) + theme(text = element_text(size=9), axis.text.x = element_text(angle=90, hjust=1)))"
   ]
  },
  {
   "cell_type": "code",
   "execution_count": 11,
   "metadata": {},
   "outputs": [
    {
     "ename": "ERROR",
     "evalue": "Error: Aesthetics must be either length 1 or the same as the data (32561): x, fill, alpha\n",
     "execution_count": 11,
     "output_type": "error",
     "traceback": [
      "Error: Aesthetics must be either length 1 or the same as the data (32561): x, fill, alpha\nTraceback:\n",
      "1. print(ggplot(adult) + geom_density(mapping = aes(x = adult$`education-num`, \n .     fill = adult$income, alpha = 0.5)))",
      "2. print.ggplot(ggplot(adult) + geom_density(mapping = aes(x = adult$`education-num`, \n .     fill = adult$income, alpha = 0.5)))",
      "3. ggplot_build(x)",
      "4. ggplot_build.ggplot(x)",
      "5. by_layer(function(l, d) l$compute_aesthetics(d, plot))",
      "6. f(l = layers[[i]], d = data[[i]])",
      "7. l$compute_aesthetics(d, plot)",
      "8. f(..., self = self)",
      "9. check_aesthetics(evaled, n)",
      "10. stop(\"Aesthetics must be either length 1 or the same as the data (\", \n  .     n, \"): \", paste(names(!good), collapse = \", \"), call. = FALSE)"
     ]
    },
    {
     "data": {
      "image/png": "[encoded data removed]",
      "text/plain": [
       "plot without title"
      ]
     },
     "metadata": {},
     "output_type": "display_data",
     "source": "R display func"
    }
   ],
   "source": [
    " print(ggplot(adult) + geom_density(mapping = aes(x = adult$`education-num`, fill = adult$income, alpha = .5)))"
   ]
  },
  {
   "cell_type": "code",
   "execution_count": 12,
   "metadata": {},
   "outputs": [
    {
     "name": "stderr",
     "output_type": "stream",
     "text": [
      "Loading required package: lattice\n"
     ]
    }
   ],
   "source": [
    "library(caret)\n",
    "splitIndex <- createDataPartition(adult$income, p = .6, list = FALSE, times = 1)\n",
    "train <- adult[ splitIndex,]\n",
    "test <- adult[-splitIndex,]"
   ]
  },
  {
   "cell_type": "code",
   "execution_count": 13,
   "metadata": {},
   "outputs": [],
   "source": [
    "library(rpart)\n",
    "mytree <- rpart(income ~ ., data = train, method = \"class\")\n",
    "\n",
    "pred <- predict(mytree, test, type = \"class\")"
   ]
  },
  {
   "cell_type": "code",
   "execution_count": 14,
   "metadata": {},
   "outputs": [
    {
     "data": {
      "text/plain": [
       "Confusion Matrix and Statistics\n",
       "\n",
       "          Reference\n",
       "Prediction  <=50K  >50K\n",
       "     <=50K   9542  1624\n",
       "     >50K     346  1512\n",
       "                                          \n",
       "               Accuracy : 0.8487          \n",
       "                 95% CI : (0.8425, 0.8549)\n",
       "    No Information Rate : 0.7592          \n",
       "    P-Value [Acc > NIR] : < 2.2e-16       \n",
       "                                          \n",
       "                  Kappa : 0.5194          \n",
       " Mcnemar's Test P-Value : < 2.2e-16       \n",
       "                                          \n",
       "            Sensitivity : 0.4821          \n",
       "            Specificity : 0.9650          \n",
       "         Pos Pred Value : 0.8138          \n",
       "         Neg Pred Value : 0.8546          \n",
       "             Prevalence : 0.2408          \n",
       "         Detection Rate : 0.1161          \n",
       "   Detection Prevalence : 0.1427          \n",
       "      Balanced Accuracy : 0.7236          \n",
       "                                          \n",
       "       'Positive' Class :  >50K           \n",
       "                                          "
      ]
     },
     "metadata": {},
     "output_type": "display_data"
    },
    {
     "data": {
      "text/html": [
       "0.151259213759214"
      ],
      "text/latex": [
       "0.151259213759214"
      ],
      "text/markdown": [
       "0.151259213759214"
      ],
      "text/plain": [
       "[1] 0.1512592"
      ]
     },
     "metadata": {},
     "output_type": "display_data"
    }
   ],
   "source": [
    "cm=confusionMatrix(data=pred, reference =test$income, positive = \" >50K\")\n",
    "cm\n",
    "\n",
    "mean(pred != test$income)"
   ]
  },
  {
   "cell_type": "code",
   "execution_count": 15,
   "metadata": {},
   "outputs": [
    {
     "name": "stderr",
     "output_type": "stream",
     "text": [
      "Rattle: A free graphical interface for data science with R.\n",
      "Version 5.2.0 Copyright (c) 2006-2018 Togaware Pty Ltd.\n",
      "Type 'rattle()' to shake, rattle, and roll your data.\n"
     ]
    },
    {
     "data": {
      "image/png": "[encoded data removed]",
      "text/plain": [
       "Plot with title \"\""
      ]
     },
     "metadata": {},
     "output_type": "display_data",
     "source": "R display func"
    }
   ],
   "source": [
    "library(rattle)\n",
    "fancyRpartPlot(mytree)"
   ]
  },
  {
   "cell_type": "code",
   "execution_count": 16,
   "metadata": {},
   "outputs": [
    {
     "ename": "ERROR",
     "evalue": "Error in `[.data.frame`(m, labs): undefined columns selected\n",
     "execution_count": 16,
     "output_type": "error",
     "traceback": [
      "Error in `[.data.frame`(m, labs): undefined columns selected\nTraceback:\n",
      "1. train(income ~ ., data = train, method = \"rpart\")",
      "2. train.formula(income ~ ., data = train, method = \"rpart\")",
      "3. train(x, y, weights = w, ...)",
      "4. train.default(x, y, weights = w, ...)",
      "5. models$grid(x = x, y = y, len = tuneLength, search = trControl$search)",
      "6. rpart::rpart(.outcome ~ ., data = dat, control = rpart::rpart.control(cp = 0))   # at line 10-12 of file rpart.R",
      "7. unlist(lapply(m[labs], tfun))",
      "8. lapply(m[labs], tfun)",
      "9. m[labs]",
      "10. `[.data.frame`(m, labs)",
      "11. stop(\"undefined columns selected\")"
     ]
    }
   ],
   "source": [
    "model <- train(income~.,data =train, method = \"rpart\")\n",
    "pred2=predict(model,test)\n",
    "\n",
    "cm2=confusionMatrix(pred2, test$income, positive=\" >50K\")"
   ]
  },
  {
   "cell_type": "code",
   "execution_count": 17,
   "metadata": {},
   "outputs": [
    {
     "name": "stdout",
     "output_type": "stream",
     "text": [
      "Confusion Matrix and Statistics\n",
      "\n",
      "          Reference\n",
      "Prediction  <=50K  >50K\n",
      "     <=50K   7050  1112\n",
      "     >50K     366  1240\n",
      "                                          \n",
      "               Accuracy : 0.8487          \n",
      "                 95% CI : (0.8414, 0.8557)\n",
      "    No Information Rate : 0.7592          \n",
      "    P-Value [Acc > NIR] : < 2.2e-16       \n",
      "                                          \n",
      "                  Kappa : 0.5359          \n",
      " Mcnemar's Test P-Value : < 2.2e-16       \n",
      "                                          \n",
      "            Sensitivity : 0.5272          \n",
      "            Specificity : 0.9506          \n",
      "         Pos Pred Value : 0.7721          \n",
      "         Neg Pred Value : 0.8638          \n",
      "             Prevalence : 0.2408          \n",
      "         Detection Rate : 0.1269          \n",
      "   Detection Prevalence : 0.1644          \n",
      "      Balanced Accuracy : 0.7389          \n",
      "                                          \n",
      "       'Positive' Class :  >50K           \n",
      "                                          \n",
      "[1] 0.1513104\n",
      "Confusion Matrix and Statistics\n",
      "\n",
      "          Reference\n",
      "Prediction  <=50K  >50K\n",
      "     <=50K   4705   765\n",
      "     >50K     239   803\n",
      "                                          \n",
      "               Accuracy : 0.8458          \n",
      "                 95% CI : (0.8368, 0.8545)\n",
      "    No Information Rate : 0.7592          \n",
      "    P-Value [Acc > NIR] : < 2.2e-16       \n",
      "                                          \n",
      "                  Kappa : 0.5238          \n",
      " Mcnemar's Test P-Value : < 2.2e-16       \n",
      "                                          \n",
      "            Sensitivity : 0.5121          \n",
      "            Specificity : 0.9517          \n",
      "         Pos Pred Value : 0.7706          \n",
      "         Neg Pred Value : 0.8601          \n",
      "             Prevalence : 0.2408          \n",
      "         Detection Rate : 0.1233          \n",
      "   Detection Prevalence : 0.1600          \n",
      "      Balanced Accuracy : 0.7319          \n",
      "                                          \n",
      "       'Positive' Class :  >50K           \n",
      "                                          \n",
      "[1] 0.1541769\n",
      "Confusion Matrix and Statistics\n",
      "\n",
      "          Reference\n",
      "Prediction  <=50K  >50K\n",
      "     <=50K   2347   376\n",
      "     >50K     125   408\n",
      "                                          \n",
      "               Accuracy : 0.8461          \n",
      "                 95% CI : (0.8333, 0.8584)\n",
      "    No Information Rate : 0.7592          \n",
      "    P-Value [Acc > NIR] : < 2.2e-16       \n",
      "                                          \n",
      "                  Kappa : 0.5275          \n",
      " Mcnemar's Test P-Value : < 2.2e-16       \n",
      "                                          \n",
      "            Sensitivity : 0.5204          \n",
      "            Specificity : 0.9494          \n",
      "         Pos Pred Value : 0.7655          \n",
      "         Neg Pred Value : 0.8619          \n",
      "             Prevalence : 0.2408          \n",
      "         Detection Rate : 0.1253          \n",
      "   Detection Prevalence : 0.1637          \n",
      "      Balanced Accuracy : 0.7349          \n",
      "                                          \n",
      "       'Positive' Class :  >50K           \n",
      "                                          \n",
      "[1] 0.1538698\n"
     ]
    }
   ],
   "source": [
    "library(caret)\n",
    "for (i in 7:9)\n",
    "{\n",
    "  splitIndex <- createDataPartition(adult$income, p = (.1*i), list = FALSE, times = 1)\n",
    "train <- adult[ splitIndex,]\n",
    "test <- adult[-splitIndex,]\n",
    "\n",
    "\n",
    "\n",
    "library(rpart)\n",
    "mytree <- rpart(income ~ ., data = train, method = \"class\")\n",
    "\n",
    "pred <- predict(mytree, test, type = \"class\")\n",
    "\n",
    "\n",
    "\n",
    "cm=confusionMatrix(data=pred, reference =test$income, positive = \" >50K\")\n",
    "\n",
    "print(cm)\n",
    "print(mean(pred != test$income))\n",
    "\n",
    "}"
   ]
  },
  {
   "cell_type": "code",
   "execution_count": null,
   "metadata": {},
   "outputs": [],
   "source": []
  }
 ],
 "metadata": {
  "kernelspec": {
   "display_name": "R",
   "language": "R",
   "name": "ir"
  },
  "language_info": {
   "codemirror_mode": "r",
   "file_extension": ".r",
   "mimetype": "text/x-r-source",
   "name": "R",
   "pygments_lexer": "r",
   "version": "3.5.1"
  }
 },
 "nbformat": 4,
 "nbformat_minor": 2
}
