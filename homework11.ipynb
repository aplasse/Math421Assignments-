{
 "cells": [
  {
   "cell_type": "code",
   "execution_count": 6,
   "metadata": {},
   "outputs": [],
   "source": [
    "adult <- read.csv(\"C:/Users/student/Desktop/adult.csv\", header = FALSE)\n",
    "\n",
    "names(adult) <- c(\"age\", \"workclass\", \"fnlwgt\", \"education\", \"education_num\", \"marital_status\", \"occupation\", \"relationship\", \"race\", \"sex\", \"capital_gain\", \"capital_loss\",\"hours_per_week\", \"native_country\",\"income\")\n"
   ]
  },
  {
   "cell_type": "code",
   "execution_count": 7,
   "metadata": {},
   "outputs": [],
   "source": [
    "for (i in 1:ncol(adult))\n",
    "{ for (j in 1:nrow(adult))\n",
    "{ if(adult[j,i] == \" ?\")\n",
    "{\n",
    "  adult[j,i] = NA\n",
    "}\n",
    "}\n",
    "  \n",
    "}\n"
   ]
  },
  {
   "cell_type": "code",
   "execution_count": 8,
   "metadata": {},
   "outputs": [],
   "source": [
    "for (i in 1:ncol(adult))\n",
    "{ if(class(adult[,i]) == \"factor\")\n",
    "{\n",
    "  adult[,i][is.na(adult[,i])] = unique(adult[,i])[which.max(tabulate(match(adult,unique(adult[,i]))))]\n",
    "}\n",
    "}\n"
   ]
  },
  {
   "cell_type": "code",
   "execution_count": 10,
   "metadata": {},
   "outputs": [],
   "source": [
    "library(caret)\n",
    "\n",
    "preProcess_missingdata_model <- preProcess(adult, method='medianImpute')\n",
    "\n",
    "trainData <- predict(preProcess_missingdata_model, newdata = adult)\n"
   ]
  },
  {
   "cell_type": "code",
   "execution_count": 11,
   "metadata": {},
   "outputs": [],
   "source": [
    "#Native Country\n",
    "\n",
    "levels(adult$`native_country`) = c(\" ?\", \" Asia\", \" North America\", \" Asia\", \" South America\", \" North America\", \" North America\", \" South America\", \" North America\", \" Europe\", \" Europe\", \" Europe\", \" Europe\", \" North America\", \" North America\", \" Europe\", \" North America\", \" Asia\", \" Europe\", \" Asia\", \" Asia\", \" Europe\", \" Europe\", \" Africa\", \" Asia\", \" Asia\", \" North America\", \" North America\", \" North America\", \" South America\", \" Asia\", \" Europe\", \" Europe\", \" North America\", \" Europe\", \" South America\", \" Asia\", \" Asia\", \" North America\", \" North America\", \" Asia\", \" Europe\")\n",
    "  \n",
    "# education\n",
    "levels(adult$education) = c(\"HS drop out\", \"HS drop out\", \"HS drop out\", \"no HS\", \"no HS\", \"no HS\", \"HS drop out\", \"2 years of college\", \"2 years of college\", \"Bachelors or higher\", \"Bachelors or higher\", \"HS-grad\", \"Bachelors or higher\", \"no HS\", \"no HS\", \"HS-grad\")\n",
    "\n",
    "# occupation \n",
    "levels(adult$occupation) = c(\" ?\", \" Management\", \" Military\", \" Other\", \" Management\", \" Other\", \" Other\", \" Other\", \" Other\", \" Other\", \" Specialty\", \" Other\", \" Other\", \" Tech\", \" Other\")\n"
   ]
  },
  {
   "cell_type": "code",
   "execution_count": 12,
   "metadata": {},
   "outputs": [
    {
     "name": "stderr",
     "output_type": "stream",
     "text": [
      "Warning message in model.frame.default(Terms, newdata, na.action = na.action, xlev = object$lvls):\n",
      "\"variable 'income' is not a factor\""
     ]
    }
   ],
   "source": [
    "dummies_model <- dummyVars(income ~ ., data=trainData)\n",
    "trainData_mat <- predict(dummies_model, newdata = trainData)\n"
   ]
  },
  {
   "cell_type": "code",
   "execution_count": 13,
   "metadata": {},
   "outputs": [],
   "source": [
    "preProcess_missingdata_model <- preProcess(adult, method= c(\"center\", \"scale\"))\n",
    "trainData <- predict(preProcess_missingdata_model, newdata = adult)\n"
   ]
  },
  {
   "cell_type": "code",
   "execution_count": 14,
   "metadata": {},
   "outputs": [
    {
     "name": "stderr",
     "output_type": "stream",
     "text": [
      "Rattle: A free graphical interface for data science with R.\n",
      "Version 5.2.0 Copyright (c) 2006-2018 Togaware Pty Ltd.\n",
      "Type 'rattle()' to shake, rattle, and roll your data.\n"
     ]
    },
    {
     "data": {
      "image/png": "[encoded data removed]",
      "text/plain": [
       "Plot with title \"\""
      ]
     },
     "metadata": {},
     "output_type": "display_data",
     "source": "R display func"
    }
   ],
   "source": [
    "#convert to dataframe\n",
    "trainData <- data.frame(trainData_mat)\n",
    "trainData$income <- adult$income\n",
    "\n",
    "\n",
    "#split data\n",
    "splitIndex <- createDataPartition(trainData$income, p = .7, list = FALSE, times = 1)\n",
    "set.seed(2018)\n",
    "train <- trainData[ splitIndex,]\n",
    "test <- trainData[-splitIndex,]\n",
    "\n",
    "#creating tree\n",
    "library(rpart)\n",
    "mytree <- rpart(income ~ ., data = train, method = \"class\")\n",
    "pred <- predict(mytree, test, type = \"class\")\n",
    "\n",
    "#plotting tree\n",
    "library(rattle)\n",
    "## Rattle: A free graphical interface for data science with R.\n",
    "## Version 5.2.0 Copyright (c) 2006-2018 Togaware Pty Ltd.\n",
    "## Type 'rattle()' to shake, rattle, and roll your data.\n",
    "fancyRpartPlot(mytree)\n"
   ]
  },
  {
   "cell_type": "code",
   "execution_count": 15,
   "metadata": {},
   "outputs": [
    {
     "data": {
      "text/plain": [
       "Confusion Matrix and Statistics\n",
       "\n",
       "          Reference\n",
       "Prediction  <=50K  >50K\n",
       "     <=50K   6990  1073\n",
       "     >50K     426  1279\n",
       "                                          \n",
       "               Accuracy : 0.8465          \n",
       "                 95% CI : (0.8392, 0.8536)\n",
       "    No Information Rate : 0.7592          \n",
       "    P-Value [Acc > NIR] : < 2.2e-16       \n",
       "                                          \n",
       "                  Kappa : 0.5368          \n",
       " Mcnemar's Test P-Value : < 2.2e-16       \n",
       "                                          \n",
       "            Sensitivity : 0.5438          \n",
       "            Specificity : 0.9426          \n",
       "         Pos Pred Value : 0.7501          \n",
       "         Neg Pred Value : 0.8669          \n",
       "             Prevalence : 0.2408          \n",
       "         Detection Rate : 0.1309          \n",
       "   Detection Prevalence : 0.1745          \n",
       "      Balanced Accuracy : 0.7432          \n",
       "                                          \n",
       "       'Positive' Class :  >50K           \n",
       "                                          "
      ]
     },
     "metadata": {},
     "output_type": "display_data"
    }
   ],
   "source": [
    "cm=confusionMatrix(data=pred, reference =test$income, positive = \" >50K\")\n",
    "\n",
    "cm\n"
   ]
  },
  {
   "cell_type": "code",
   "execution_count": 16,
   "metadata": {},
   "outputs": [
    {
     "name": "stderr",
     "output_type": "stream",
     "text": [
      "\n",
      "Attaching package: 'ranger'\n",
      "\n",
      "The following object is masked from 'package:rattle':\n",
      "\n",
      "    importance\n",
      "\n"
     ]
    },
    {
     "data": {
      "text/plain": [
       "Confusion Matrix and Statistics\n",
       "\n",
       "          Reference\n",
       "Prediction  <=50K  >50K\n",
       "     <=50K   6993   890\n",
       "     >50K     423  1462\n",
       "                                          \n",
       "               Accuracy : 0.8656          \n",
       "                 95% CI : (0.8587, 0.8723)\n",
       "    No Information Rate : 0.7592          \n",
       "    P-Value [Acc > NIR] : < 2.2e-16       \n",
       "                                          \n",
       "                  Kappa : 0.6056          \n",
       " Mcnemar's Test P-Value : < 2.2e-16       \n",
       "                                          \n",
       "            Sensitivity : 0.6216          \n",
       "            Specificity : 0.9430          \n",
       "         Pos Pred Value : 0.7756          \n",
       "         Neg Pred Value : 0.8871          \n",
       "             Prevalence : 0.2408          \n",
       "         Detection Rate : 0.1497          \n",
       "   Detection Prevalence : 0.1930          \n",
       "      Balanced Accuracy : 0.7823          \n",
       "                                          \n",
       "       'Positive' Class :  >50K           \n",
       "                                          "
      ]
     },
     "metadata": {},
     "output_type": "display_data"
    }
   ],
   "source": [
    "library(ranger)\n",
    "\n",
    "model = ranger(income~., data=train)\n",
    "pred3 = predict(model,data = test)$predictions\n",
    "cm3 = confusionMatrix(pred3,test$income, positive = \" >50K\")\n",
    "\n",
    "cm3\n"
   ]
  },
  {
   "cell_type": "code",
   "execution_count": 18,
   "metadata": {},
   "outputs": [
    {
     "name": "stderr",
     "output_type": "stream",
     "text": [
      "Warning message in model.frame.default(Terms, newdata, na.action = na.action, xlev = object$lvls):\n",
      "\"variable 'income' is not a factor\""
     ]
    },
    {
     "data": {
      "image/png": "[encoded data removed]",
      "text/plain": [
       "Plot with title \"\""
      ]
     },
     "metadata": {},
     "output_type": "display_data",
     "source": "R display func"
    }
   ],
   "source": [
    "adult <- read.csv(\"C:/Users/student/Desktop/adult.csv\", header = FALSE)\n",
    "names(adult) <- c(\"age\", \"workclass\", \"fnlwgt\", \"education\", \"education_num\", \"marital_status\", \"occupation\", \"relationship\", \"race\", \"sex\", \"capital_gain\", \"capital_loss\",\"hours_per_week\", \"native_country\",\"income\")\n",
    "\n",
    "#change to NA's again\n",
    "for (i in 1:ncol(adult))\n",
    "{ for (j in 1:nrow(adult))\n",
    "{ if(adult[j,i] == \" ?\")\n",
    "{\n",
    "  adult[j,i] = NA\n",
    "}\n",
    "}\n",
    "  \n",
    "}\n",
    " ## fixing categorical variables\n",
    "for (i in 1:ncol(adult))\n",
    "{ if(class(adult[,i]) == \"factor\")\n",
    "{\n",
    "  adult[,i][is.na(adult[,i])] = unique(adult[,i])[which.max(tabulate(match(adult,unique(adult[,i]))))]\n",
    "}\n",
    "}\n",
    "\n",
    "### fixing levels of variables again\n",
    "##Native Country\n",
    "levels(adult$`native_country`) = c(\" ?\", \" Asia\", \" North America\", \" Asia\", \" South America\", \" North America\", \" North America\", \" South America\", \" North America\", \" Europe\", \" Europe\", \" Europe\", \" Europe\", \" North America\", \" North America\", \" Europe\", \" North America\", \" Asia\", \" Europe\", \" Asia\", \" Asia\", \" Europe\", \" Europe\", \" Africa\", \" Asia\", \" Asia\", \" North America\", \" North America\", \" North America\", \" South America\", \" Asia\", \" Europe\", \" Europe\", \" North America\", \" Europe\", \" South America\", \" Asia\", \" Asia\", \" North America\", \" North America\", \" Asia\", \" Europe\")\n",
    "  \n",
    "# education\n",
    "levels(adult$education) = c(\"HS drop out\", \"HS drop out\", \"HS drop out\", \"no HS\", \"no HS\", \"no HS\", \"HS drop out\", \"2 years of college\", \"2 years of college\", \"Bachelors or higher\", \"Bachelors or higher\", \"HS-grad\", \"Bachelors or higher\", \"no HS\", \"no HS\", \"HS-grad\")\n",
    "\n",
    "# occupation \n",
    "levels(adult$occupation) = c(\" ?\", \" Management\", \" Military\", \" Other\", \" Management\", \" Other\", \" Other\", \" Other\", \" Other\", \" Other\", \" Specialty\", \" Other\", \" Other\", \" Tech\", \" Other\")\n",
    "\n",
    "### REPLACING MISSING VALUES WITH MEAN\n",
    "for (i in 1:ncol(adult))\n",
    "{ if(class(adult[,i]) == \"numeric\") \n",
    "{\n",
    "  adult[,i][is.na(adult[,i])] = mean(adult[,i])\n",
    "}\n",
    "} \n",
    "preProcess_missingdata_model <- preProcess(adult)\n",
    "\n",
    "trainData <- predict(preProcess_missingdata_model, newdata = adult)\n",
    "\n",
    "#Dummy vars\n",
    "dummies_model <- dummyVars(income ~ ., data=trainData)\n",
    "trainData_mat <- predict(dummies_model, newdata = trainData)\n",
    "## Warning in model.frame.default(Terms, newdata, na.action = na.action, xlev\n",
    "## = object$lvls): variable 'income' is not a factor\n",
    "#convert to dataframe\n",
    "trainData <- data.frame(trainData_mat)\n",
    "trainData$income <- adult$income\n",
    "\n",
    "splitIndex <- createDataPartition(trainData$income, p = .7, list = FALSE, times = 1)\n",
    "set.seed(2018)\n",
    "train <- trainData[ splitIndex,]\n",
    "test <- trainData[-splitIndex,]\n",
    "\n",
    "#creating tree\n",
    "library(rpart)\n",
    "mytree <- rpart(income ~ ., data = train, method = \"class\")\n",
    "pred <- predict(mytree, test, type = \"class\")\n",
    "\n",
    "#plotting tree\n",
    "library(rattle)\n",
    "fancyRpartPlot(mytree)\n"
   ]
  },
  {
   "cell_type": "code",
   "execution_count": 19,
   "metadata": {},
   "outputs": [
    {
     "data": {
      "text/plain": [
       "Confusion Matrix and Statistics\n",
       "\n",
       "          Reference\n",
       "Prediction  <=50K  >50K\n",
       "     <=50K   7008  1138\n",
       "     >50K     408  1214\n",
       "                                          \n",
       "               Accuracy : 0.8417          \n",
       "                 95% CI : (0.8343, 0.8489)\n",
       "    No Information Rate : 0.7592          \n",
       "    P-Value [Acc > NIR] : < 2.2e-16       \n",
       "                                          \n",
       "                  Kappa : 0.5158          \n",
       " Mcnemar's Test P-Value : < 2.2e-16       \n",
       "                                          \n",
       "            Sensitivity : 0.5162          \n",
       "            Specificity : 0.9450          \n",
       "         Pos Pred Value : 0.7485          \n",
       "         Neg Pred Value : 0.8603          \n",
       "             Prevalence : 0.2408          \n",
       "         Detection Rate : 0.1243          \n",
       "   Detection Prevalence : 0.1661          \n",
       "      Balanced Accuracy : 0.7306          \n",
       "                                          \n",
       "       'Positive' Class :  >50K           \n",
       "                                          "
      ]
     },
     "metadata": {},
     "output_type": "display_data"
    }
   ],
   "source": [
    "cm=confusionMatrix(data=pred, reference =test$income, positive = \" >50K\")\n",
    "\n",
    "cm\n"
   ]
  },
  {
   "cell_type": "code",
   "execution_count": 20,
   "metadata": {},
   "outputs": [
    {
     "name": "stderr",
     "output_type": "stream",
     "text": [
      "Warning message in model.frame.default(Terms, newdata, na.action = na.action, xlev = object$lvls):\n",
      "\"variable 'income' is not a factor\""
     ]
    },
    {
     "data": {
      "image/png": "[encoded data removed]",
      "text/plain": [
       "Plot with title \"\""
      ]
     },
     "metadata": {},
     "output_type": "display_data",
     "source": "R display func"
    }
   ],
   "source": [
    "adult <- read.csv(\"C:/Users/student/Desktop/adult.csv\", header = FALSE)\n",
    "names(adult) <- c(\"age\", \"workclass\", \"fnlwgt\", \"education\", \"education_num\", \"marital_status\", \"occupation\", \"relationship\", \"race\", \"sex\", \"capital_gain\", \"capital_loss\",\"hours_per_week\", \"native_country\",\"income\")\n",
    "\n",
    "#change to NA's again\n",
    "for (i in 1:ncol(adult))\n",
    "{ for (j in 1:nrow(adult))\n",
    "{ if(adult[j,i] == \" ?\")\n",
    "{\n",
    "  adult[j,i] = NA\n",
    "}\n",
    "}\n",
    "  \n",
    "}\n",
    " ## fixing categorical variables\n",
    "for (i in 1:ncol(adult))\n",
    "{ if(class(adult[,i]) == \"factor\")\n",
    "{\n",
    "  adult[,i][is.na(adult[,i])] =  unique(adult[,i])[which.max(tabulate(match(adult,unique(adult[,i]))))]\n",
    "} \n",
    "}\n",
    "\n",
    "### fixing levels of variables again\n",
    "##Native Country\n",
    "levels(adult$`native_country`) = c(\" ?\", \" Asia\", \" North America\", \" Asia\", \" South America\", \" North America\", \" North America\", \" South America\", \" North America\", \" Europe\", \" Europe\", \" Europe\", \" Europe\", \" North America\", \" North America\", \" Europe\", \" North America\", \" Asia\", \" Europe\", \" Asia\", \" Asia\", \" Europe\", \" Europe\", \" Africa\", \" Asia\", \" Asia\", \" North America\", \" North America\", \" North America\", \" South America\", \" Asia\", \" Europe\", \" Europe\", \" North America\", \" Europe\", \" South America\", \" Asia\", \" Asia\", \" North America\", \" North America\", \" Asia\", \" Europe\")\n",
    "  \n",
    "# education\n",
    "levels(adult$education) = c(\"HS drop out\", \"HS drop out\", \"HS drop out\", \"no HS\", \"no HS\", \"no HS\", \"HS drop out\", \"2 years of college\", \"2 years of college\", \"Bachelors or higher\", \"Bachelors or higher\", \"HS-grad\", \"Bachelors or higher\", \"no HS\", \"no HS\", \"HS-grad\")\n",
    "\n",
    "# occupation \n",
    "levels(adult$occupation) = c(\" ?\", \" Management\", \" Military\", \" Other\", \" Management\", \" Other\", \" Other\", \" Other\", \" Other\", \" Other\", \" Specialty\", \" Other\", \" Other\", \" Tech\", \" Other\")\n",
    "preProcess_missingdata_model <- preProcess(adult, method= c(\"center\", \"scale\"))\n",
    "trainData <- predict(preProcess_missingdata_model, newdata = adult)\n",
    "\n",
    "dummies_model <- dummyVars(income ~ ., data=trainData)\n",
    "trainData_mat <- predict(dummies_model, newdata = trainData)\n",
    "## Warning in model.frame.default(Terms, newdata, na.action = na.action, xlev\n",
    "## = object$lvls): variable 'income' is not a factor\n",
    "#convert to dataframe\n",
    "trainData <- data.frame(trainData_mat)\n",
    "trainData$income <- adult$income\n",
    "\n",
    "splitIndex <- createDataPartition(trainData$income, p = .7, list = FALSE, times = 1)\n",
    "set.seed(2018)\n",
    "train <- trainData[ splitIndex,]\n",
    "test <- trainData[-splitIndex,]\n",
    "\n",
    "#creating tree\n",
    "library(rpart)\n",
    "mytree <- rpart(income ~ ., data = train, method = \"class\")\n",
    "pred <- predict(mytree, test, type = \"class\")\n",
    "\n",
    "#plotting tree\n",
    "library(rattle)\n",
    "fancyRpartPlot(mytree)\n"
   ]
  },
  {
   "cell_type": "code",
   "execution_count": 21,
   "metadata": {},
   "outputs": [
    {
     "data": {
      "text/plain": [
       "Confusion Matrix and Statistics\n",
       "\n",
       "          Reference\n",
       "Prediction  <=50K  >50K\n",
       "     <=50K   7008  1138\n",
       "     >50K     408  1214\n",
       "                                          \n",
       "               Accuracy : 0.8417          \n",
       "                 95% CI : (0.8343, 0.8489)\n",
       "    No Information Rate : 0.7592          \n",
       "    P-Value [Acc > NIR] : < 2.2e-16       \n",
       "                                          \n",
       "                  Kappa : 0.5158          \n",
       " Mcnemar's Test P-Value : < 2.2e-16       \n",
       "                                          \n",
       "            Sensitivity : 0.5162          \n",
       "            Specificity : 0.9450          \n",
       "         Pos Pred Value : 0.7485          \n",
       "         Neg Pred Value : 0.8603          \n",
       "             Prevalence : 0.2408          \n",
       "         Detection Rate : 0.1243          \n",
       "   Detection Prevalence : 0.1661          \n",
       "      Balanced Accuracy : 0.7306          \n",
       "                                          \n",
       "       'Positive' Class :  >50K           \n",
       "                                          "
      ]
     },
     "metadata": {},
     "output_type": "display_data"
    }
   ],
   "source": [
    "cm=confusionMatrix(data=pred, reference =test$income, positive = \" >50K\")\n",
    "\n",
    "cm\n"
   ]
  },
  {
   "cell_type": "code",
   "execution_count": 22,
   "metadata": {},
   "outputs": [
    {
     "name": "stderr",
     "output_type": "stream",
     "text": [
      "Warning message in model.frame.default(Terms, newdata, na.action = na.action, xlev = object$lvls):\n",
      "\"variable 'income' is not a factor\""
     ]
    },
    {
     "data": {
      "image/png": "[encoded data removed]",
      "text/plain": [
       "Plot with title \"\""
      ]
     },
     "metadata": {},
     "output_type": "display_data",
     "source": "R display func"
    }
   ],
   "source": [
    "adult <- read.csv(\"C:/Users/student/Desktop/adult.csv\", header = FALSE)\n",
    "names(adult) <- c(\"age\", \"workclass\", \"fnlwgt\", \"education\", \"education_num\", \"marital_status\", \"occupation\", \"relationship\", \"race\", \"sex\", \"capital_gain\", \"capital_loss\",\"hours_per_week\", \"native_country\",\"income\")\n",
    "\n",
    "#change to NA's again\n",
    "for (i in 1:ncol(adult))\n",
    "{ for (j in 1:nrow(adult))\n",
    "{ if(adult[j,i] == \" ?\")\n",
    "{\n",
    "  adult[j,i] = NA\n",
    "}\n",
    "}\n",
    "  \n",
    "}\n",
    " ## fixing categorical variables\n",
    "for (i in 1:ncol(adult))\n",
    "{ if(class(adult[,i]) == \"factor\")\n",
    "{\n",
    "  adult[,i][is.na(adult[,i])] =  unique(adult[,i])[which.max(tabulate(match(adult,unique(adult[,i]))))]\n",
    "} \n",
    "}\n",
    "\n",
    "### fixing levels of variables again\n",
    "##Native Country\n",
    "levels(adult$`native_country`) = c(\" ?\", \" Asia\", \" North America\", \" Asia\", \" South America\", \" North America\", \" North America\", \" South America\", \" North America\", \" Europe\", \" Europe\", \" Europe\", \" Europe\", \" North America\", \" North America\", \" Europe\", \" North America\", \" Asia\", \" Europe\", \" Asia\", \" Asia\", \" Europe\", \" Europe\", \" Africa\", \" Asia\", \" Asia\", \" North America\", \" North America\", \" North America\", \" South America\", \" Asia\", \" Europe\", \" Europe\", \" North America\", \" Europe\", \" South America\", \" Asia\", \" Asia\", \" North America\", \" North America\", \" Asia\", \" Europe\")\n",
    "  \n",
    "# education\n",
    "levels(adult$education) = c(\"HS drop out\", \"HS drop out\", \"HS drop out\", \"no HS\", \"no HS\", \"no HS\", \"HS drop out\", \"2 years of college\", \"2 years of college\", \"Bachelors or higher\", \"Bachelors or higher\", \"HS-grad\", \"Bachelors or higher\", \"no HS\", \"no HS\", \"HS-grad\")\n",
    "\n",
    "# occupation \n",
    "levels(adult$occupation) = c(\" ?\", \" Management\", \" Military\", \" Other\", \" Management\", \" Other\", \" Other\", \" Other\", \" Other\", \" Other\", \" Specialty\", \" Other\", \" Other\", \" Tech\", \" Other\")\n",
    "dummies_model <- dummyVars(income ~ ., data=trainData)\n",
    "trainData_mat <- predict(dummies_model, newdata = trainData)\n",
    "## Warning in model.frame.default(Terms, newdata, na.action = na.action, xlev\n",
    "## = object$lvls): variable 'income' is not a factor\n",
    "preProcess_missingdata_model <- preProcess(adult, method= \"BoxCox\")\n",
    "trainData <- predict(preProcess_missingdata_model, newdata = adult)\n",
    "\n",
    "#convert to dataframe\n",
    "trainData <- data.frame(trainData_mat)\n",
    "trainData$income <- adult$income\n",
    "\n",
    "splitIndex <- createDataPartition(trainData$income, p = .7, list = FALSE, times = 1)\n",
    "set.seed(2018)\n",
    "train <- trainData[ splitIndex,]\n",
    "test <- trainData[-splitIndex,]\n",
    "\n",
    "#creating tree\n",
    "library(rpart)\n",
    "mytree <- rpart(income ~ ., data = train, method = \"class\")\n",
    "pred <- predict(mytree, test, type = \"class\")\n",
    "\n",
    "#plotting tree\n",
    "library(rattle)\n",
    "fancyRpartPlot(mytree)\n"
   ]
  },
  {
   "cell_type": "code",
   "execution_count": 23,
   "metadata": {},
   "outputs": [
    {
     "data": {
      "text/plain": [
       "Confusion Matrix and Statistics\n",
       "\n",
       "          Reference\n",
       "Prediction  <=50K  >50K\n",
       "     <=50K   7008  1138\n",
       "     >50K     408  1214\n",
       "                                          \n",
       "               Accuracy : 0.8417          \n",
       "                 95% CI : (0.8343, 0.8489)\n",
       "    No Information Rate : 0.7592          \n",
       "    P-Value [Acc > NIR] : < 2.2e-16       \n",
       "                                          \n",
       "                  Kappa : 0.5158          \n",
       " Mcnemar's Test P-Value : < 2.2e-16       \n",
       "                                          \n",
       "            Sensitivity : 0.5162          \n",
       "            Specificity : 0.9450          \n",
       "         Pos Pred Value : 0.7485          \n",
       "         Neg Pred Value : 0.8603          \n",
       "             Prevalence : 0.2408          \n",
       "         Detection Rate : 0.1243          \n",
       "   Detection Prevalence : 0.1661          \n",
       "      Balanced Accuracy : 0.7306          \n",
       "                                          \n",
       "       'Positive' Class :  >50K           \n",
       "                                          "
      ]
     },
     "metadata": {},
     "output_type": "display_data"
    }
   ],
   "source": [
    "cm=confusionMatrix(data=pred, reference =test$income, positive = \" >50K\")\n",
    "\n",
    "cm\n"
   ]
  },
  {
   "cell_type": "code",
   "execution_count": 24,
   "metadata": {},
   "outputs": [
    {
     "name": "stderr",
     "output_type": "stream",
     "text": [
      "Warning message in model.frame.default(Terms, newdata, na.action = na.action, xlev = object$lvls):\n",
      "\"variable 'income' is not a factor\""
     ]
    },
    {
     "data": {
      "image/png": "[encoded data removed]",
      "text/plain": [
       "Plot with title \"\""
      ]
     },
     "metadata": {},
     "output_type": "display_data",
     "source": "R display func"
    }
   ],
   "source": [
    "adult <- read.csv(\"C:/Users/student/Desktop/adult.csv\", header = FALSE)\n",
    "names(adult) <- c(\"age\", \"workclass\", \"fnlwgt\", \"education\", \"education_num\", \"marital_status\", \"occupation\", \"relationship\", \"race\", \"sex\", \"capital_gain\", \"capital_loss\",\"hours_per_week\", \"native_country\",\"income\")\n",
    "\n",
    "#change to NA's again\n",
    "for (i in 1:ncol(adult))\n",
    "{ for (j in 1:nrow(adult))\n",
    "{ if(adult[j,i] == \" ?\")\n",
    "{\n",
    "  adult[j,i] = NA\n",
    "} \n",
    "}\n",
    "  \n",
    "}\n",
    " ## fixing categorical variables\n",
    "for (i in 1:ncol(adult))\n",
    "{ if(class(adult[,i]) == \"factor\") \n",
    "{\n",
    "  adult[,i][is.na(adult[,i])] = unique(adult[,i])[which.max(tabulate(match(adult,unique(adult[,i]))))]\n",
    "}\n",
    "}\n",
    "\n",
    "### imputing median\n",
    "library(caret)\n",
    "preProcess_missingdata_model <- preProcess(adult, method='medianImpute')\n",
    "\n",
    "trainData <- predict(preProcess_missingdata_model, newdata = adult)\n",
    "preProcess_missingdata_model <- preProcess(adult, method= c(\"center\", \"scale\"))\n",
    "trainData <- predict(preProcess_missingdata_model, newdata = adult)\n",
    "\n",
    "#encoding dummy vars\n",
    "dummies_model <- dummyVars(income ~ ., data=trainData)\n",
    "trainData_mat <- predict(dummies_model, newdata = trainData)\n",
    "## Warning in model.frame.default(Terms, newdata, na.action = na.action, xlev\n",
    "## = object$lvls): variable 'income' is not a factor\n",
    "#convert to dataframe\n",
    "trainData <- data.frame(trainData_mat)\n",
    "trainData$income <- adult$income\n",
    "\n",
    "splitIndex <- createDataPartition(trainData$income, p = .7, list = FALSE, times = 1)\n",
    "set.seed(2018)\n",
    "train <- trainData[ splitIndex,]\n",
    "test <- trainData[-splitIndex,]\n",
    "\n",
    "#creating tree\n",
    "library(rpart)\n",
    "mytree <- rpart(income ~ ., data = train, method = \"class\")\n",
    "pred <- predict(mytree, test, type = \"class\")\n",
    "\n",
    "#plotting tree\n",
    "library(rattle)\n",
    "fancyRpartPlot(mytree)\n"
   ]
  },
  {
   "cell_type": "code",
   "execution_count": 25,
   "metadata": {},
   "outputs": [
    {
     "data": {
      "text/plain": [
       "Confusion Matrix and Statistics\n",
       "\n",
       "          Reference\n",
       "Prediction  <=50K  >50K\n",
       "     <=50K   7008  1138\n",
       "     >50K     408  1214\n",
       "                                          \n",
       "               Accuracy : 0.8417          \n",
       "                 95% CI : (0.8343, 0.8489)\n",
       "    No Information Rate : 0.7592          \n",
       "    P-Value [Acc > NIR] : < 2.2e-16       \n",
       "                                          \n",
       "                  Kappa : 0.5158          \n",
       " Mcnemar's Test P-Value : < 2.2e-16       \n",
       "                                          \n",
       "            Sensitivity : 0.5162          \n",
       "            Specificity : 0.9450          \n",
       "         Pos Pred Value : 0.7485          \n",
       "         Neg Pred Value : 0.8603          \n",
       "             Prevalence : 0.2408          \n",
       "         Detection Rate : 0.1243          \n",
       "   Detection Prevalence : 0.1661          \n",
       "      Balanced Accuracy : 0.7306          \n",
       "                                          \n",
       "       'Positive' Class :  >50K           \n",
       "                                          "
      ]
     },
     "metadata": {},
     "output_type": "display_data"
    }
   ],
   "source": [
    "cm=confusionMatrix(data=pred, reference =test$income, positive = \" >50K\")\n",
    "\n",
    "cm\n"
   ]
  },
  {
   "cell_type": "code",
   "execution_count": null,
   "metadata": {},
   "outputs": [],
   "source": []
  }
 ],
 "metadata": {
  "kernelspec": {
   "display_name": "R",
   "language": "R",
   "name": "ir"
  },
  "language_info": {
   "codemirror_mode": "r",
   "file_extension": ".r",
   "mimetype": "text/x-r-source",
   "name": "R",
   "pygments_lexer": "r",
   "version": "3.5.1"
  }
 },
 "nbformat": 4,
 "nbformat_minor": 2
}
