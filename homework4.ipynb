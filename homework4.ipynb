{
 "cells": [
  {
   "cell_type": "code",
   "execution_count": 1,
   "metadata": {},
   "outputs": [],
   "source": [
    "numberone = function(x)\n",
    "{\n",
    "  return(x^2+3*x+1)\n",
    "}\n",
    "\n",
    "numbertwo = function(x)\n",
    "{\n",
    "  return(prod(x))\n",
    "}\n",
    "\n",
    "numberthree = function(v,n)\n",
    "{\n",
    "  v[is.na(v)]=n\n",
    "  return(v)\n",
    "}\n",
    "\n",
    "numbertfour = function(v,n)\n",
    "{\n",
    "  n = mean(v, na.rm = TRUE)\n",
    "  v[is.na(v)]=n\n",
    "  return(v)\n",
    "}\n",
    "\n",
    "\n",
    "numberfive = function(v)\n",
    "{\n",
    "  \n",
    "  for(i in 1:ncol(v))\n",
    "    {\n",
    "    for (j in 1:length(v[,i]))\n",
    "  {\n",
    "      if (is.na(v[j,i] == 1)) v[j,i]=mean(v[,i],na.rm=TRUE)\n",
    "      else v[j,i]=v[j,i]\n",
    "    }\n",
    "  }\n",
    "  return(v)\n",
    "}\n",
    "\n",
    "numbersix = function(n,v)\n",
    "{\n",
    "  n[,v]\n",
    "  library(ggplot2)\n",
    "  ggplot(n) + geom_bar(mapping = aes(x = v))\n",
    "  \n",
    "}\n",
    "\n",
    "numberseven = function(n,v,q)\n",
    "{\n",
    "  n[,v]\n",
    "  n[,q]\n",
    "  ggplot(n) + geom_bar(mapping = aes(x=v, fill=q))\n",
    "}\n"
   ]
  },
  {
   "cell_type": "code",
   "execution_count": null,
   "metadata": {},
   "outputs": [],
   "source": []
  }
 ],
 "metadata": {
  "kernelspec": {
   "display_name": "R",
   "language": "R",
   "name": "ir"
  },
  "language_info": {
   "codemirror_mode": "r",
   "file_extension": ".r",
   "mimetype": "text/x-r-source",
   "name": "R",
   "pygments_lexer": "r",
   "version": "3.5.1"
  }
 },
 "nbformat": 4,
 "nbformat_minor": 2
}
